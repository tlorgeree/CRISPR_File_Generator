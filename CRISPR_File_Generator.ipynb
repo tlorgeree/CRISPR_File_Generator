{
 "cells": [
  {
   "cell_type": "code",
   "execution_count": null,
   "metadata": {},
   "outputs": [],
   "source": [
    "#Input: Directory for Spreeadsheet\n",
    "#Input: Spreadsheet of genes, markers\n",
    "#Input: Directory to save files to\n",
    "\n",
    "#For Each guide of input Gene:\n",
    "    #Output: CRISPR Vector File\n",
    "    #Output: Deathstar Ins File\n",
    "    #Output: Primers\n",
    "    \n"
   ]
  }
 ],
 "metadata": {
  "kernelspec": {
   "display_name": "Python 3",
   "language": "python",
   "name": "python3"
  },
  "language_info": {
   "codemirror_mode": {
    "name": "ipython",
    "version": 3
   },
   "file_extension": ".py",
   "mimetype": "text/x-python",
   "name": "python",
   "nbconvert_exporter": "python",
   "pygments_lexer": "ipython3",
   "version": "3.8.5"
  }
 },
 "nbformat": 4,
 "nbformat_minor": 4
}
