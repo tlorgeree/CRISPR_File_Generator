{
 "cells": [
  {
   "cell_type": "code",
   "execution_count": 1,
   "metadata": {},
   "outputs": [
    {
     "name": "stdout",
     "output_type": "stream",
     "text": [
      "Unix or Windows OS? (U/W) W\n",
      "Please enter the directory for the Python_Project_Files folder: E\n"
     ]
    },
    {
     "ename": "KeyboardInterrupt",
     "evalue": "",
     "output_type": "error",
     "traceback": [
      "\u001b[1;31m---------------------------------------------------------------------------\u001b[0m",
      "\u001b[1;31mFileNotFoundError\u001b[0m                         Traceback (most recent call last)",
      "\u001b[1;32m~\\anaconda3\\lib\\genericpath.py\u001b[0m in \u001b[0;36mexists\u001b[1;34m(path)\u001b[0m\n\u001b[0;32m     18\u001b[0m     \u001b[1;32mtry\u001b[0m\u001b[1;33m:\u001b[0m\u001b[1;33m\u001b[0m\u001b[1;33m\u001b[0m\u001b[0m\n\u001b[1;32m---> 19\u001b[1;33m         \u001b[0mos\u001b[0m\u001b[1;33m.\u001b[0m\u001b[0mstat\u001b[0m\u001b[1;33m(\u001b[0m\u001b[0mpath\u001b[0m\u001b[1;33m)\u001b[0m\u001b[1;33m\u001b[0m\u001b[1;33m\u001b[0m\u001b[0m\n\u001b[0m\u001b[0;32m     20\u001b[0m     \u001b[1;32mexcept\u001b[0m \u001b[1;33m(\u001b[0m\u001b[0mOSError\u001b[0m\u001b[1;33m,\u001b[0m \u001b[0mValueError\u001b[0m\u001b[1;33m)\u001b[0m\u001b[1;33m:\u001b[0m\u001b[1;33m\u001b[0m\u001b[1;33m\u001b[0m\u001b[0m\n",
      "\u001b[1;31mFileNotFoundError\u001b[0m: [WinError 2] The system cannot find the file specified: 'E'",
      "\nDuring handling of the above exception, another exception occurred:\n",
      "\u001b[1;31mKeyboardInterrupt\u001b[0m                         Traceback (most recent call last)",
      "\u001b[1;32m<ipython-input-1-9510456691fc>\u001b[0m in \u001b[0;36m<module>\u001b[1;34m\u001b[0m\n\u001b[0;32m     21\u001b[0m \u001b[1;31m#obtain the active directory\u001b[0m\u001b[1;33m\u001b[0m\u001b[1;33m\u001b[0m\u001b[1;33m\u001b[0m\u001b[0m\n\u001b[0;32m     22\u001b[0m \u001b[0mactive_dir\u001b[0m \u001b[1;33m=\u001b[0m \u001b[0minput\u001b[0m\u001b[1;33m(\u001b[0m\u001b[1;34m\"Please enter the directory for the Python_Project_Files folder: \"\u001b[0m\u001b[1;33m)\u001b[0m\u001b[1;33m\u001b[0m\u001b[1;33m\u001b[0m\u001b[0m\n\u001b[1;32m---> 23\u001b[1;33m \u001b[1;32mwhile\u001b[0m \u001b[1;32mnot\u001b[0m \u001b[0mos\u001b[0m\u001b[1;33m.\u001b[0m\u001b[0mpath\u001b[0m\u001b[1;33m.\u001b[0m\u001b[0mexists\u001b[0m\u001b[1;33m(\u001b[0m\u001b[0mactive_dir\u001b[0m\u001b[1;33m)\u001b[0m\u001b[1;33m:\u001b[0m\u001b[1;33m\u001b[0m\u001b[1;33m\u001b[0m\u001b[0m\n\u001b[0m\u001b[0;32m     24\u001b[0m     \u001b[1;32mif\u001b[0m \u001b[1;32mnot\u001b[0m \u001b[1;33m(\u001b[0m\u001b[0mactive_dir\u001b[0m \u001b[1;33m==\u001b[0m \u001b[1;34m\"E\"\u001b[0m \u001b[1;32mor\u001b[0m \u001b[0mactive_dir\u001b[0m \u001b[1;33m==\u001b[0m \u001b[1;34m\"e\"\u001b[0m\u001b[1;33m)\u001b[0m\u001b[1;33m:\u001b[0m\u001b[1;33m\u001b[0m\u001b[1;33m\u001b[0m\u001b[0m\n\u001b[0;32m     25\u001b[0m         active_dir = input(\"\"\"The directory entered does not exist, \n",
      "\u001b[1;32m~\\anaconda3\\lib\\genericpath.py\u001b[0m in \u001b[0;36mexists\u001b[1;34m(path)\u001b[0m\n\u001b[0;32m     17\u001b[0m     \u001b[1;34m\"\"\"Test whether a path exists.  Returns False for broken symbolic links\"\"\"\u001b[0m\u001b[1;33m\u001b[0m\u001b[1;33m\u001b[0m\u001b[0m\n\u001b[0;32m     18\u001b[0m     \u001b[1;32mtry\u001b[0m\u001b[1;33m:\u001b[0m\u001b[1;33m\u001b[0m\u001b[1;33m\u001b[0m\u001b[0m\n\u001b[1;32m---> 19\u001b[1;33m         \u001b[0mos\u001b[0m\u001b[1;33m.\u001b[0m\u001b[0mstat\u001b[0m\u001b[1;33m(\u001b[0m\u001b[0mpath\u001b[0m\u001b[1;33m)\u001b[0m\u001b[1;33m\u001b[0m\u001b[1;33m\u001b[0m\u001b[0m\n\u001b[0m\u001b[0;32m     20\u001b[0m     \u001b[1;32mexcept\u001b[0m \u001b[1;33m(\u001b[0m\u001b[0mOSError\u001b[0m\u001b[1;33m,\u001b[0m \u001b[0mValueError\u001b[0m\u001b[1;33m)\u001b[0m\u001b[1;33m:\u001b[0m\u001b[1;33m\u001b[0m\u001b[1;33m\u001b[0m\u001b[0m\n\u001b[0;32m     21\u001b[0m         \u001b[1;32mreturn\u001b[0m \u001b[1;32mFalse\u001b[0m\u001b[1;33m\u001b[0m\u001b[1;33m\u001b[0m\u001b[0m\n",
      "\u001b[1;31mKeyboardInterrupt\u001b[0m: "
     ]
    }
   ],
   "source": [
    "#Input: Directory for Spreeadsheet\n",
    "#Input: Spreadsheet of genes, markers\n",
    "#Input: Directory to save files to\n",
    "\n",
    "#For Each guide of input Gene:\n",
    "    #Output: CRISPR Vector File\n",
    "    #Output: Deathstar Ins File\n",
    "    #Output: Primers\n",
    "import sys\n",
    "import csv\n",
    "import re\n",
    "import os\n",
    "from collections import defaultdict\n",
    "\n",
    "#menu prompts\n",
    "OS = input(\"Unix or Windows OS? (U/W) \")\n",
    "while not (OS == 'U' or OS == 'W'):\n",
    "    print(\"Invalid Response.\")\n",
    "    OS = input(\"Unix or Windows OS? (U/W) \")\n",
    "\n",
    "#obtain the active directory\n",
    "active_dir = input(\"Please enter the directory for the Python_Project_Files folder: \")\n",
    "while not os.path.exists(active_dir):\n",
    "    if not (active_dir == \"E\" or active_dir == \"e\"):\n",
    "        active_dir = input(\"\"\"The directory entered does not exist, \n",
    "            please re-enter the working directory or enter \"E\" to exit the program: \"\"\")\n",
    "    else: exit()\n",
    "        \n",
    "if (os.path.exists(active_dir)):\n",
    "    print(\"Directory found successfully\")\n",
    "\n",
    "#Windows\n",
    "if (OS == 'W'):\n",
    "    input_folder = (active_dir + \"\\input_files\")\n",
    "    print(\"Given folder directory: \" + input_folder)\n",
    "    while not os.path.exists(input_folder):\n",
    "        if not (active_dir == \"E\" or active_dir == \"e\"):\n",
    "            active_dir = input(\"\"\"The input_folder could not be found at \" + input_folder \", \n",
    "                please re-enter the working directory or enter \"E\" to exit the program: \"\"\")\n",
    "            input_folder = (active_dir + \"//input_folder\")\n",
    "        else: exit()\n",
    "    if (os.path.exists(input_folder)):\n",
    "        print(\"Folder found successfully\")\n",
    "#Unix (iOS or Linux)       \n",
    "if (OS == 'U'):\n",
    "    input_folder = (active_dir + \"/input_files\")\n",
    "    print(\"Given folder directory: \" + input_folder)\n",
    "    while not os.path.exists(input_folder):\n",
    "        if not (active_dir == \"E\" or active_dir == \"e\"):\n",
    "            active_dir = input(\"\"\"The input_folder could not be found, \n",
    "                please re-enter the working directory or enter \"E\" to exit the program: \"\"\")\n",
    "            input_folder = (active_dir + \"//input_folder\")\n",
    "        else: exit()\n",
    "    if (os.path.exists(input_folder)):\n",
    "        print(\"Folder found successfully\")\n",
    "    \n",
    "\n",
    "    \n"
   ]
  },
  {
   "cell_type": "code",
   "execution_count": null,
   "metadata": {},
   "outputs": [],
   "source": []
  }
 ],
 "metadata": {
  "kernelspec": {
   "display_name": "Python 3",
   "language": "python",
   "name": "python3"
  },
  "language_info": {
   "codemirror_mode": {
    "name": "ipython",
    "version": 3
   },
   "file_extension": ".py",
   "mimetype": "text/x-python",
   "name": "python",
   "nbconvert_exporter": "python",
   "pygments_lexer": "ipython3",
   "version": "3.8.5"
  }
 },
 "nbformat": 4,
 "nbformat_minor": 4
}
